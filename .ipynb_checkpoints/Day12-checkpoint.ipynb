{
 "cells": [
  {
   "cell_type": "code",
   "execution_count": 5,
   "metadata": {},
   "outputs": [],
   "source": [
    "# Create a list of the 10 elements of four different types of Data Type like int, string, complex and float.\n",
    "mylist = ['x', 1, 1.99, 3+2j, 'y', 2, 2.99, 4+4j, 'z,', 3]\n",
    "for element in mylist:\n",
    "    print(type(element))"
   ]
  },
  {
   "cell_type": "code",
   "execution_count": 18,
   "metadata": {},
   "outputs": [
    {
     "name": "stdout",
     "output_type": "stream",
     "text": [
      "x\n",
      "1\n",
      "1.99\n",
      "(3+2j)\n",
      "y\n"
     ]
    }
   ],
   "source": [
    "# Create a list of size 5 and execute the slicing structure\n",
    "mylist = ['x', 1, 1.99, 3+2j, 'y']\n",
    "print(mylist[0])\n",
    "print(mylist[1])\n",
    "print(mylist[2])\n",
    "print(mylist[-2])\n",
    "print(mylist[-1])"
   ]
  },
  {
   "cell_type": "code",
   "execution_count": 7,
   "metadata": {},
   "outputs": [
    {
     "name": "stdout",
     "output_type": "stream",
     "text": [
      "19\n"
     ]
    }
   ],
   "source": [
    "# Write a program to get the sum and multiply of all the items in a given list.\n",
    "mysum = [4, 5, 2, 5, 3]\n",
    "for x in mysum:\n",
    "    print(sum(mysum))\n",
    "    x=1\n",
    "    break\n"
   ]
  },
  {
   "cell_type": "code",
   "execution_count": 10,
   "metadata": {},
   "outputs": [
    {
     "name": "stdout",
     "output_type": "stream",
     "text": [
      "600\n"
     ]
    }
   ],
   "source": [
    "mysum = [4, 5, 2, 5, 3]\n",
    "def multiplyList(myList):\n",
    "    result = 1\n",
    "    for x in myList: \n",
    "         result = result * x  \n",
    "    return result  \n",
    "print(multiplyList(mysum)) "
   ]
  },
  {
   "cell_type": "code",
   "execution_count": 14,
   "metadata": {},
   "outputs": [
    {
     "name": "stdout",
     "output_type": "stream",
     "text": [
      "2\n",
      "5\n"
     ]
    }
   ],
   "source": [
    "# Find the largest and smallest number from a given list.\n",
    "mysum = [4, 5, 2, 5, 3]\n",
    "x = min(mysum)\n",
    "y = max(mysum)\n",
    "print(x)\n",
    "print(y)"
   ]
  },
  {
   "cell_type": "code",
   "execution_count": 29,
   "metadata": {},
   "outputs": [
    {
     "name": "stdout",
     "output_type": "stream",
     "text": [
      "Original list:  [1, 2, 3, 4, 5, 6, 7, 8, 9, 10]\n",
      "new list:  [1, 3, 5, 7, 9]\n"
     ]
    }
   ],
   "source": [
    "# Create a new list which contains the specified numbers after removing the even numbers from a predefined list. \n",
    "mylist = [1, 2, 3, 4, 5, 6, 7, 8, 9, 10]\n",
    "print('Original list: ', mylist)\n",
    "def remove_odd(l):\n",
    "    for i in l:\n",
    "        if i % 2 == 0:\n",
    "            l.remove(i)\n",
    "    print('new list: ', l)\n",
    "remove_odd(mylist)"
   ]
  },
  {
   "cell_type": "code",
   "execution_count": 32,
   "metadata": {},
   "outputs": [
    {
     "name": "stdout",
     "output_type": "stream",
     "text": [
      "[1, 4, 9, 16, 25]\n",
      "[625, 676, 729, 784, 841]\n"
     ]
    }
   ],
   "source": [
    "# Create a list of first and last 5 elements where the values are square of numbers between 1 and 30 (both included).\n",
    "def printValues():\n",
    "    l = list()\n",
    "    for i in range(1,30):\n",
    "        l.append(i**2)\n",
    "    print(l[:5])\n",
    "    print(l[-5:])\n",
    "\n",
    "printValues()"
   ]
  },
  {
   "cell_type": "code",
   "execution_count": 52,
   "metadata": {},
   "outputs": [
    {
     "name": "stdout",
     "output_type": "stream",
     "text": [
      "[1, 3, 5, 7, 9, 2, 4, 6, 8]\n"
     ]
    }
   ],
   "source": [
    "# Write a program to replace the last element in a list with another list.\n",
    "# Sample data: [[1,3,5,7,9,10],[2,4,6,8]]\n",
    "# Expected output: [1,3,5,7,9,2,4,6,8]\n",
    "\n",
    "x = [[1,3,5,7,9,10],[2,4,6,8]]\n",
    "a = x[0]\n",
    "b = x[1]\n",
    "a.pop()\n",
    "for i in b:\n",
    "    a.append(i)\n",
    "print(a)"
   ]
  },
  {
   "cell_type": "code",
   "execution_count": 61,
   "metadata": {},
   "outputs": [
    {
     "name": "stdout",
     "output_type": "stream",
     "text": [
      "{1: 10, 2: 20, 3: 30, 4: 40}\n"
     ]
    }
   ],
   "source": [
    "# Create a new dictionary by concatenating the following two dictionaries:\n",
    "# a={1:10,2:20}\n",
    "# b={3:30,4:40}\n",
    "# Expected Result: {1:10,2:20,3:30,4:40}\n",
    "a={1:10,2:20}\n",
    "b={3:30,4:40}\n",
    "for key,value in b.items():\n",
    "    a[key] = value\n",
    "print(a)"
   ]
  },
  {
   "cell_type": "code",
   "execution_count": 64,
   "metadata": {},
   "outputs": [
    {
     "name": "stdout",
     "output_type": "stream",
     "text": [
      "{1: 1, 2: 4, 3: 9, 4: 16, 5: 25}\n"
     ]
    }
   ],
   "source": [
    "# Create a dictionary that contains a number (between 1 and n) in the form(x,x*x).\n",
    "# Sample data (n=5)\n",
    "# Expected Output: {1:1,2:4,3:9,4:16,5:25}\n",
    "dict ={}\n",
    "for i in range(1,6):\n",
    "    dict[i] = i*i\n",
    "print(dict)"
   ]
  },
  {
   "cell_type": "code",
   "execution_count": 75,
   "metadata": {
    "scrolled": true
   },
   "outputs": [
    {
     "name": "stdout",
     "output_type": "stream",
     "text": [
      "Enter elements: 34 67 55 33 12 98\n",
      "Enter elements: 34 67 55 33 12 98\n",
      "['34', '67', '55', '33', '12', '98']\n",
      "('34', '67', '55', '33', '12', '98')\n"
     ]
    }
   ],
   "source": [
    "# Write a program which accepts a sequence of comma-separated numbers from console and generate a list and a tuple which contains every number. Suppose the following input is supplied to the program:\n",
    "# 34,67,55,33,12,98\n",
    "# The output should be:\n",
    "# [‘34’,’67’,’55’,’33’,’12’,’98’]\n",
    "# (‘34’,’67’,’55’,’33’,’12’,’98’)\n",
    "x = []\n",
    "y = ()\n",
    "x = [str(item) for item in input('Enter elements: ').split()]\n",
    "y = tuple([str(item) for item in input('Enter elements: ').split()])\n",
    "print(x)\n",
    "print(y)\n"
   ]
  },
  {
   "cell_type": "code",
   "execution_count": null,
   "metadata": {},
   "outputs": [],
   "source": []
  }
 ],
 "metadata": {
  "kernelspec": {
   "display_name": "Python 3",
   "language": "python",
   "name": "python3"
  },
  "language_info": {
   "codemirror_mode": {
    "name": "ipython",
    "version": 3
   },
   "file_extension": ".py",
   "mimetype": "text/x-python",
   "name": "python",
   "nbconvert_exporter": "python",
   "pygments_lexer": "ipython3",
   "version": "3.8.3"
  }
 },
 "nbformat": 4,
 "nbformat_minor": 4
}
