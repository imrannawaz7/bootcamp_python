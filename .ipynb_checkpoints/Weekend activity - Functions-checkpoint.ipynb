{
 "cells": [
  {
   "cell_type": "code",
   "execution_count": 4,
   "metadata": {},
   "outputs": [
    {
     "name": "stdout",
     "output_type": "stream",
     "text": [
      "Enter a string: 322323ewew\n"
     ]
    },
    {
     "data": {
      "text/plain": [
       "'wewe323223'"
      ]
     },
     "execution_count": 4,
     "metadata": {},
     "output_type": "execute_result"
    }
   ],
   "source": [
    "# Write a program to reverse a string.\n",
    "# Sample data: “1234abcd”\n",
    "# Expected Output: “dcba4321”\n",
    "def my_reverse(x):\n",
    "    return x[::-1]\n",
    "mystring = my_reverse(input('Enter a string: '))\n",
    "mystring"
   ]
  },
  {
   "cell_type": "code",
   "execution_count": 11,
   "metadata": {},
   "outputs": [
    {
     "name": "stdout",
     "output_type": "stream",
     "text": [
      "Enter a string: Whree Aww23\n",
      "No. of Upper case characters : 2, No. of Lower case characters : 6\n"
     ]
    }
   ],
   "source": [
    "# Write a function that accepts a string and calculate the number of uppercase letters and lowercase letters.\n",
    "# Expected Output:\n",
    "# No. of Upper case characters : 3\n",
    "# No. of Lower case Characters : 12\n",
    "def up_low(s):      \n",
    "    u = sum(1 for i in s if i.isupper())\n",
    "    l = sum(1 for i in s if i.islower())\n",
    "    print( \"No. of Upper case characters : %s, No. of Lower case characters : %s\" % (u,l))\n",
    "mystring = up_low(input('Enter a string: '))\n",
    "mystring"
   ]
  },
  {
   "cell_type": "code",
   "execution_count": 60,
   "metadata": {},
   "outputs": [
    {
     "data": {
      "text/plain": [
       "[2]"
      ]
     },
     "execution_count": 60,
     "metadata": {},
     "output_type": "execute_result"
    }
   ],
   "source": [
    "#   Create a function that takes a list and returns a new list with unique elements of the first list.\n",
    "def unique(lst):\n",
    "    dic = {}\n",
    "    uni = []\n",
    "    for i in lst:\n",
    "        if i not in dic:\n",
    "            dic[i] = 0\n",
    "        dic[i] += 1 \n",
    "    for key,val in dic.items():\n",
    "        if val == 1:\n",
    "            uni.append(key)\n",
    "    return uni\n",
    "unique([1,1,2,3,3])"
   ]
  },
  {
   "cell_type": "code",
   "execution_count": 6,
   "metadata": {},
   "outputs": [
    {
     "name": "stdout",
     "output_type": "stream",
     "text": [
      "ok-yes-no-why-alright\n",
      "alright-no-ok-why-yes\n"
     ]
    }
   ],
   "source": [
    "# Write a program that accepts a hyphen-separated sequence of words as input and prints the words in a hyphen-separated sequence after sorting them alphabetically.\n",
    "items=[i for i in input().split('-')]\n",
    "items.sort()\n",
    "print('-'.join(items))\n"
   ]
  },
  {
   "cell_type": "code",
   "execution_count": 5,
   "metadata": {},
   "outputs": [
    {
     "name": "stdout",
     "output_type": "stream",
     "text": [
      "Enter your sentence: wew\n",
      "Enter another sentence: ew\n",
      "False\n",
      "False\n"
     ]
    }
   ],
   "source": [
    "# Write a program that accepts a sequence of lines as input and prints the lines after making all characters in the sentence capitalized.\n",
    "# Sample input:\n",
    "# Hello world\n",
    "# Practice makes perfect\n",
    "# Expected Output:\n",
    "# HELLO WORLD\n",
    "# PRACTICE MAKES PERFECT\n",
    "\n",
    "sent1 = input('Enter your sentence: ')\n",
    "sent2 = input('Enter another sentence: ')\n",
    "for i in sent1, sent2:\n",
    "    x = sent1.isupper()\n",
    "    y = sent2.isupper()\n",
    "print(x)\n",
    "print(y)"
   ]
  },
  {
   "cell_type": "code",
   "execution_count": 11,
   "metadata": {},
   "outputs": [
    {
     "name": "stdout",
     "output_type": "stream",
     "text": [
      "Enter 1st number: 23\n",
      "Enter 2nd number: 43\n",
      "66\n"
     ]
    }
   ],
   "source": [
    "#  Define a function that can receive two integral numbers in string form and compute their sum and print it in console.\n",
    "num1 = input('Enter 1st number: ')\n",
    "num2 = input('Enter 2nd number: ')\n",
    "def calcsum(a,b):\n",
    "    s = int(a) + int(b)\n",
    "    return s\n",
    "sum = calcsum(num1,num2)\n",
    "print(sum)\n"
   ]
  },
  {
   "cell_type": "code",
   "execution_count": 5,
   "metadata": {},
   "outputs": [
    {
     "name": "stdout",
     "output_type": "stream",
     "text": [
      "Enter first string: whe\n",
      "Enter second string: dfdffd\n",
      "Larger string is:\n",
      "dfdffd\n"
     ]
    }
   ],
   "source": [
    "#  Define a function that can accept two strings as input and print the string with maximum length in console. If two strings have the same length, then the function should print all strings line by line.\n",
    "\n",
    "string1 = input(\"Enter first string: \")\n",
    "string2 = input(\"Enter second string: \")\n",
    "count1 = 0\n",
    "count2 = 0\n",
    "for i in string1:\n",
    "    count1 = count1 + 1\n",
    "\n",
    "for j in string2:\n",
    "    count2 = count2 + 1\n",
    "\n",
    "if (count1 < count2):\n",
    "    print (\"Larger string is:\")\n",
    "    print (string2)\n",
    "\n",
    "elif (count1 == count2):\n",
    "    print (\"Both strings are equal.\")\n",
    "    print(string1)\n",
    "    print(string2)\n",
    "        \n",
    "else:\n",
    "    print (\"Larger string is:\")\n",
    "    print (string1)"
   ]
  },
  {
   "cell_type": "code",
   "execution_count": 7,
   "metadata": {},
   "outputs": [
    {
     "name": "stdout",
     "output_type": "stream",
     "text": [
      "(1, 4, 9, 16, 25, 36, 49, 64, 81, 100, 121, 144, 169, 196, 225, 256, 289, 324, 361, 400)\n"
     ]
    }
   ],
   "source": [
    "#  Define a function which can generate and print a tuple where the value are square of numbers between 1 and 20.\n",
    "lst = []\n",
    "for i in range(1,21):\n",
    "    lst.append(i**2)\n",
    "print(tuple(lst))"
   ]
  },
  {
   "cell_type": "code",
   "execution_count": 10,
   "metadata": {},
   "outputs": [
    {
     "name": "stdout",
     "output_type": "stream",
     "text": [
      "Even : 0\n",
      "odd : 1\n",
      "Even : 2\n",
      "odd : 3\n",
      "Even : 4\n",
      "odd : 5\n",
      "Even : 6\n",
      "odd : 7\n",
      "Even : 8\n",
      "odd : 9\n",
      "Even : 10\n"
     ]
    }
   ],
   "source": [
    "# Write a function called showNumbers that takes a parameter called limit. It should print all the numbers between 0 and limit with a label to identify the even and odd numbers. \n",
    "# Example: If the limit is 3 , it should print:\n",
    "# 0 EVEN\n",
    "# 1 ODD\n",
    "# 2 EVEN\n",
    "# 3 ODD\n",
    "def nums(limit):\n",
    "    for i in range(limit+1):\n",
    "        if i % 2 == 0:\n",
    "            print(\"Even :\",i)\n",
    "        else:\n",
    "            print(\"odd :\",i)\n",
    "nums(10)"
   ]
  },
  {
   "cell_type": "code",
   "execution_count": 19,
   "metadata": {},
   "outputs": [
    {
     "data": {
      "text/plain": [
       "[2, 4, 6, 8, 10, 12, 14, 16, 18, 20]"
      ]
     },
     "execution_count": 19,
     "metadata": {},
     "output_type": "execute_result"
    }
   ],
   "source": [
    "# Write a program which can filter() to make a list whose elements are even number between 1 and 20 ( both included)\n",
    "lst = [x for x in range(1,21)]\n",
    "lst = list(filter(lambda i: i%2==0,lst))\n",
    "lst "
   ]
  },
  {
   "cell_type": "code",
   "execution_count": 43,
   "metadata": {},
   "outputs": [
    {
     "data": {
      "text/plain": [
       "[4, 16, 36, 64, 100]"
      ]
     },
     "execution_count": 43,
     "metadata": {},
     "output_type": "execute_result"
    }
   ],
   "source": [
    "# Write a program which can map() and filter() to make a list whose elements are square of even number in [1,2,3,4,5,6,7,8,9,10]\n",
    "# Hints: Use map() to generate a list.\n",
    "#      \t     Use filter() to filter elements of a list\n",
    "#             Use lambda to define anonymous functions\n",
    "    \n",
    "lst = [1,2,3,4,5,6,7,8,9,10]\n",
    "lst = list(map(lambda i: i**2 if i%2 == 0 else 0 ,lst))\n",
    "lst = list(filter(lambda i: i != 0,lst))\n",
    "lst"
   ]
  },
  {
   "cell_type": "code",
   "execution_count": 47,
   "metadata": {},
   "outputs": [
    {
     "name": "stdout",
     "output_type": "stream",
     "text": [
      "cannot divide by zero\n"
     ]
    }
   ],
   "source": [
    "# Write a function to compute 5/0 and use try/except to catch the exceptions\n",
    "try:\n",
    "    x = 5/0\n",
    "except ZeroDivisionError:\n",
    "    print('cannot divide by zero')"
   ]
  },
  {
   "cell_type": "code",
   "execution_count": 55,
   "metadata": {},
   "outputs": [
    {
     "data": {
      "text/plain": [
       "'12345678'"
      ]
     },
     "execution_count": 55,
     "metadata": {},
     "output_type": "execute_result"
    }
   ],
   "source": [
    "# Flatten the list [[1,2,3].,[4,5],[6,7,8]] into [1,2,3,4,5,6,7,8] using reduce\n",
    "# Goal : Turn [1,2,3,4,5,6,7] to 1234567 \n",
    "from functools import reduce\n",
    "\n",
    "multi_list = [[1,2,3],[4,5],[6,7,8]]\n",
    "\n",
    "lst = reduce(list.__add__, (list(items) for items in multi_list))\n",
    "s = ''\n",
    "for i in lst:\n",
    "    s+=str(i)\n",
    "s"
   ]
  },
  {
   "cell_type": "code",
   "execution_count": null,
   "metadata": {},
   "outputs": [],
   "source": []
  }
 ],
 "metadata": {
  "kernelspec": {
   "display_name": "Python 3",
   "language": "python",
   "name": "python3"
  },
  "language_info": {
   "codemirror_mode": {
    "name": "ipython",
    "version": 3
   },
   "file_extension": ".py",
   "mimetype": "text/x-python",
   "name": "python",
   "nbconvert_exporter": "python",
   "pygments_lexer": "ipython3",
   "version": "3.7.6"
  }
 },
 "nbformat": 4,
 "nbformat_minor": 4
}
