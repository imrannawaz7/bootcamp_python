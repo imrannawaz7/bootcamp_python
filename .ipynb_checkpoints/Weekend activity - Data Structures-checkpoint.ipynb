{
 "cells": [
  {
   "cell_type": "code",
   "execution_count": null,
   "metadata": {},
   "outputs": [],
   "source": [
    "# Create a list of the 10 elements of four different types of Data Type like int, string, complex and float.\n",
    "mylist = ['x', 1, 1.99, 3+2j, 'y', 2, 2.99, 4+4j, 'z,', 3]\n",
    "for element in mylist:\n",
    "    print(type(element))"
   ]
  },
  {
   "cell_type": "code",
   "execution_count": null,
   "metadata": {},
   "outputs": [],
   "source": [
    "# Create a list of size 5 and execute the slicing structure\n",
    "mylist = ['x', 1, 1.99, 3+2j, 'y']\n",
    "print(mylist[0])\n",
    "print(mylist[1])\n",
    "print(mylist[2])\n",
    "print(mylist[-2])\n",
    "print(mylist[-1])"
   ]
  },
  {
   "cell_type": "code",
   "execution_count": null,
   "metadata": {},
   "outputs": [],
   "source": [
    "# Create a list of given structure and run \n",
    "x=[100,200,300,400,500,[1,2,3,4,5,[10,20,30,40,50],6,7,8,9],600,700,800]\n",
    "# Access list [1, 2, 3, 4]\n",
    "# Access list [600,  700]\n",
    "# Access list [100, 300, 500, 600, 800]\n",
    "# Access list [[800, 700, 600, [1, 2, 3, 4, 5, [10, 20, 30, 40, 50], 6, 7, 8, 9], 500, 400, 300, 200, 100]]\n",
    "# Access list [10]\n",
    "# Access list [ ]\n",
    "x[5][:4]\n",
    "x[6:8]\n",
    "x[::2]\n",
    "x[::-1]\n",
    "x[5][5][0]"
   ]
  },
  {
   "cell_type": "code",
   "execution_count": null,
   "metadata": {},
   "outputs": [],
   "source": [
    "# Create a list of thousand number using range and xrange and see the difference between each other.\n",
    "lst = []\n",
    "for i in range(1,1001):\n",
    "    lst.append(i)\n",
    "lst\n",
    "\n",
    "# Python 3 does not have a range funting like python 2"
   ]
  },
  {
   "cell_type": "code",
   "execution_count": null,
   "metadata": {},
   "outputs": [],
   "source": [
    "# How Tuple is beneficial as compare to the list?\n",
    "# --->Tuples are immutable. Meaning once data is set in a tuple, it can never be changed. A list can be changed at any time.\n"
   ]
  },
  {
   "cell_type": "code",
   "execution_count": null,
   "metadata": {},
   "outputs": [],
   "source": [
    "# Write a program in Python to iterate through the list of numbers in the range of 1,100 and print the number which is divisible by 3 and a multiple of 2.\n",
    "lst = []\n",
    "for i in range(1,101):\n",
    "    lst.append(i)\n",
    "lst\n",
    "for i in lst:\n",
    "    if i % 3 == 0 and i % 2 != 1:\n",
    "        print(i)\n",
    "    "
   ]
  },
  {
   "cell_type": "code",
   "execution_count": 1,
   "metadata": {},
   "outputs": [
    {
     "name": "stdout",
     "output_type": "stream",
     "text": [
      "Enter a string: weekend\n",
      "e\n",
      "e\n",
      "e\n"
     ]
    }
   ],
   "source": [
    "# Write a program in Python to reverse a string and print only the vowel alphabet if exist in the string with their index.\n",
    "x = input('Enter a string: ')\n",
    "x = x[::-1]\n",
    "lst = ['a', 'e', 'i', 'o', 'u']\n",
    "for i in x:\n",
    "    if i in lst:\n",
    "        print(i)\n",
    "    "
   ]
  },
  {
   "cell_type": "code",
   "execution_count": 2,
   "metadata": {},
   "outputs": [
    {
     "name": "stdout",
     "output_type": "stream",
     "text": [
      "my\n",
      "name\n",
      "is\n"
     ]
    }
   ],
   "source": [
    "# Write a program in Python to iterate through the string “hello my name is abcde” and print the string which has even length of word.\n",
    "x = 'hello my name is abcde'\n",
    "words = x.split()\n",
    "for i in words:\n",
    "    if len(i)%2 == 0:\n",
    "        print(i)"
   ]
  },
  {
   "cell_type": "code",
   "execution_count": 3,
   "metadata": {},
   "outputs": [
    {
     "name": "stdout",
     "output_type": "stream",
     "text": [
      "{(-1, 9), (2, 6), (1, 7), (3, 5)}\n"
     ]
    }
   ],
   "source": [
    "# Write a program in python to print the pair of numbers whose sum is equal to result number that is let's say 8.\n",
    "x=[1,2,3,4,5,6,7,8,9,-1]\n",
    "\n",
    "seen = set()\n",
    "output = set()\n",
    "\n",
    "for i in x:\n",
    "    val = 8 - i\n",
    "    if val not in seen:\n",
    "        seen.add(i)\n",
    "    else:\n",
    "        output.add((min(val,i),max(val,i)))\n",
    "    \n",
    "print(output)"
   ]
  },
  {
   "cell_type": "code",
   "execution_count": 11,
   "metadata": {},
   "outputs": [
    {
     "name": "stdout",
     "output_type": "stream",
     "text": [
      "Enter 5 numbers1\n",
      "Enter 5 numbers2\n",
      "Enter 5 numbers3\n",
      "Enter 5 numbers4\n",
      "Enter 5 numbers5\n",
      "Enter 5 numbers6\n",
      "Enter 5 numbers7\n",
      "Enter 5 numbers8\n",
      "Enter 5 numbers9\n",
      "Enter 5 numbers10\n",
      "[2, 4, 6, 8, 10]\n",
      "[1, 3, 5, 7, 9]\n"
     ]
    }
   ],
   "source": [
    "# Write a program in Python to complete the following task:\n",
    "# Create two different list as in even_list and odd_list\n",
    "# Ask user to enter the number in the range of 1,50 and make sure if the entered number is even append it to the even_list and if the entered number is odd append it to the odd list.\n",
    "# Keep that in mind you can only add 5 items in each list\n",
    "# Make sure once you entered the total 5 element calculate the sum of the list and return the maximum out of the list.\n",
    "\n",
    "evenlist = []\n",
    "oddlist = []\n",
    "for i in range(10):\n",
    "    i = int(input('Enter 5 numbers'))\n",
    "    if i % 2 ==0:\n",
    "        evenlist.append(i)\n",
    "    else:\n",
    "        oddlist.append(i)\n",
    "print(evenlist)\n",
    "print(oddlist)"
   ]
  },
  {
   "cell_type": "code",
   "execution_count": 17,
   "metadata": {},
   "outputs": [
    {
     "name": "stdout",
     "output_type": "stream",
     "text": [
      "{'a': 5, 'b': 5, 'c': 2}\n"
     ]
    }
   ],
   "source": [
    "# Write a program to find out the occurrence of a specific word from an alphanumeric statement. Example: 12abcbacbaba344ab  \n",
    "#                       Output: a=5 b=5 c=2 make sure you should avoid the numbers in you logic\n",
    "dict = {}\n",
    "Example = '12abcbacbaba344ab'\n",
    "for i in Example:\n",
    "    if i.isalpha() and i not in dict:\n",
    "        dict[i] = 0\n",
    "    if i.isalpha() and i in dict:\n",
    "        dict[i] += 1\n",
    "\n",
    "print(dict)"
   ]
  },
  {
   "cell_type": "code",
   "execution_count": 25,
   "metadata": {},
   "outputs": [
    {
     "name": "stdout",
     "output_type": "stream",
     "text": [
      "(2, 4, 6, 8, 10)\n"
     ]
    }
   ],
   "source": [
    "#  Generate and print another tuple whose values are even numbers in the given tuple (1,2,3,4,5,6,7,8,9,10).\n",
    "even = []\n",
    "t = (1,2,3,4,5,6,7,8,9,10)\n",
    "for i in t:\n",
    "    if i % 2 == 0:\n",
    "        even.append(i)\n",
    "print(tuple(even))"
   ]
  },
  {
   "cell_type": "code",
   "execution_count": null,
   "metadata": {},
   "outputs": [],
   "source": []
  }
 ],
 "metadata": {
  "kernelspec": {
   "display_name": "Python 3",
   "language": "python",
   "name": "python3"
  },
  "language_info": {
   "codemirror_mode": {
    "name": "ipython",
    "version": 3
   },
   "file_extension": ".py",
   "mimetype": "text/x-python",
   "name": "python",
   "nbconvert_exporter": "python",
   "pygments_lexer": "ipython3",
   "version": "3.7.6"
  }
 },
 "nbformat": 4,
 "nbformat_minor": 4
}
